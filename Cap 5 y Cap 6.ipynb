{
 "cells": [
  {
   "cell_type": "code",
   "execution_count": 3,
   "id": "c044aea6",
   "metadata": {},
   "outputs": [],
   "source": [
    "from scipy import linalg as la\n",
    "from scipy import optimize\n",
    "import sympy as sm\n",
    "sm.init_printing()\n",
    "import matplotlib.pyplot as plt\n",
    "import numpy as np\n",
    "sm.init_printing(use_latex='mathjax')"
   ]
  },
  {
   "cell_type": "code",
   "execution_count": 2,
   "id": "59a3426c",
   "metadata": {},
   "outputs": [
    {
     "data": {
      "text/latex": [
       "$\\displaystyle 7.58240137440151$"
      ],
      "text/plain": [
       "7.582401374401513"
      ]
     },
     "execution_count": 2,
     "metadata": {},
     "output_type": "execute_result"
    }
   ],
   "source": [
    "A=sm.Matrix([[2,3],[5,4]])\n",
    "b=sm.Matrix([4,3])\n",
    "A.rank()\n",
    "A.condition_number()\n",
    "float(A.condition_number())\n",
    "#sm.N(_)# es el valor numer de A.cond.number\n",
    "#A.norm()\n",
    "#float(A.norm())"
   ]
  },
  {
   "cell_type": "markdown",
   "id": "830d58d4",
   "metadata": {},
   "source": [
    "Podemos obtener lo mismo si usamos  $\\color{red}{Numpy}$"
   ]
  },
  {
   "cell_type": "code",
   "execution_count": 3,
   "id": "3159ca53",
   "metadata": {},
   "outputs": [
    {
     "data": {
      "text/latex": [
       "$\\displaystyle 7.34846922834953$"
      ],
      "text/plain": [
       "7.3484692283495345"
      ]
     },
     "execution_count": 3,
     "metadata": {},
     "output_type": "execute_result"
    }
   ],
   "source": [
    "A=np.array([[2,3],[5,4]])\n",
    "b=np.array([4,3])\n",
    "np.linalg.matrix_rank(A)\n",
    "np.linalg.cond(A)\n",
    "np.linalg.norm(A)"
   ]
  },
  {
   "cell_type": "code",
   "execution_count": 4,
   "id": "5d7c6a2d",
   "metadata": {},
   "outputs": [],
   "source": [
    "A=sm.Matrix([[2,3],[5,4]])\n",
    "L,U,_=A.LUdecomposition()"
   ]
  },
  {
   "cell_type": "code",
   "execution_count": 5,
   "id": "8368c9a9",
   "metadata": {},
   "outputs": [
    {
     "data": {
      "text/latex": [
       "$\\displaystyle \\left[\\begin{matrix}1 & 0\\\\\\frac{5}{2} & 1\\end{matrix}\\right]$"
      ],
      "text/plain": [
       "⎡ 1   0⎤\n",
       "⎢      ⎥\n",
       "⎣5/2  1⎦"
      ]
     },
     "execution_count": 5,
     "metadata": {},
     "output_type": "execute_result"
    }
   ],
   "source": [
    "L"
   ]
  },
  {
   "cell_type": "code",
   "execution_count": 6,
   "id": "9539a5c5",
   "metadata": {},
   "outputs": [
    {
     "data": {
      "text/latex": [
       "$\\displaystyle \\left[\\begin{matrix}2 & 3\\\\0 & - \\frac{7}{2}\\end{matrix}\\right]$"
      ],
      "text/plain": [
       "⎡2   3  ⎤\n",
       "⎢       ⎥\n",
       "⎣0  -7/2⎦"
      ]
     },
     "execution_count": 6,
     "metadata": {},
     "output_type": "execute_result"
    }
   ],
   "source": [
    "U"
   ]
  },
  {
   "cell_type": "code",
   "execution_count": 7,
   "id": "472aa8de",
   "metadata": {},
   "outputs": [
    {
     "data": {
      "text/latex": [
       "$\\displaystyle \\left[\\begin{matrix}2 & 3\\\\5 & 4\\end{matrix}\\right]$"
      ],
      "text/plain": [
       "⎡2  3⎤\n",
       "⎢    ⎥\n",
       "⎣5  4⎦"
      ]
     },
     "execution_count": 7,
     "metadata": {},
     "output_type": "execute_result"
    }
   ],
   "source": [
    "L*U"
   ]
  },
  {
   "cell_type": "code",
   "execution_count": 8,
   "id": "824f1c89",
   "metadata": {},
   "outputs": [
    {
     "data": {
      "text/latex": [
       "$\\displaystyle \\left[\\begin{matrix}-1\\\\2\\end{matrix}\\right]$"
      ],
      "text/plain": [
       "⎡-1⎤\n",
       "⎢  ⎥\n",
       "⎣2 ⎦"
      ]
     },
     "execution_count": 8,
     "metadata": {},
     "output_type": "execute_result"
    }
   ],
   "source": [
    "A=sm.Matrix([[2,3],[5,4]])\n",
    "b=sm.Matrix([4,3])\n",
    "x=A.LUsolve(b); x"
   ]
  },
  {
   "cell_type": "code",
   "execution_count": 9,
   "id": "5f679b51",
   "metadata": {},
   "outputs": [
    {
     "data": {
      "text/plain": [
       "(array([[1. , 0. ],\n",
       "        [0.4, 1. ]]),\n",
       " array([[5. , 4. ],\n",
       "        [0. , 1.4]]),\n",
       " array([[5. , 0. ],\n",
       "        [0. , 1.4]]))"
      ]
     },
     "execution_count": 9,
     "metadata": {},
     "output_type": "execute_result"
    }
   ],
   "source": [
    "P,L,U=la.lu(A)\n",
    "L , U, L*U"
   ]
  },
  {
   "cell_type": "code",
   "execution_count": 10,
   "id": "3af53f66",
   "metadata": {},
   "outputs": [
    {
     "data": {
      "text/plain": [
       "array([-1.,  2.])"
      ]
     },
     "execution_count": 10,
     "metadata": {},
     "output_type": "execute_result"
    }
   ],
   "source": [
    "A=np.array([[2,3],[5,4]])\n",
    "b=np.array([4,3])\n",
    "la.solve(A, b)"
   ]
  },
  {
   "cell_type": "markdown",
   "id": "4a352f42",
   "metadata": {},
   "source": [
    "Resolver $x_1+\\sqrt{p}x_2=1\\;,\\;x_1+\\displaystyle\\frac{1}{\\sqrt{p}}x_2=2$"
   ]
  },
  {
   "cell_type": "code",
   "execution_count": 11,
   "id": "577f8f4e",
   "metadata": {},
   "outputs": [
    {
     "data": {
      "text/latex": [
       "$\\displaystyle \\left[\\begin{matrix}\\frac{2 p - 1}{p - 1}\\\\\\frac{1}{- \\sqrt{p} + \\frac{1}{\\sqrt{p}}}\\end{matrix}\\right]$"
      ],
      "text/plain": [
       "⎡2⋅p - 1 ⎤\n",
       "⎢─────── ⎥\n",
       "⎢ p - 1  ⎥\n",
       "⎢        ⎥\n",
       "⎢   1    ⎥\n",
       "⎢────────⎥\n",
       "⎢      1 ⎥\n",
       "⎢-√p + ──⎥\n",
       "⎣      √p⎦"
      ]
     },
     "execution_count": 11,
     "metadata": {},
     "output_type": "execute_result"
    }
   ],
   "source": [
    "p=sm.symbols('p', positive=True)\n",
    "A=sm.Matrix([[1,sm.sqrt(p)],[1,1/sm.sqrt(p)]])\n",
    "b=sm.Matrix([1,2])\n",
    "x=A.solve(b)\n",
    "x"
   ]
  },
  {
   "cell_type": "markdown",
   "id": "5c0960fd",
   "metadata": {},
   "source": [
    "Comparación entre solución simbolica y la numérica"
   ]
  },
  {
   "cell_type": "code",
   "execution_count": 12,
   "id": "8cff9aca",
   "metadata": {},
   "outputs": [
    {
     "data": {
      "text/plain": [
       "Text(0.5, 0, '$x$')"
      ]
     },
     "execution_count": 12,
     "metadata": {},
     "output_type": "execute_result"
    },
    {
     "data": {
      "image/png": "[encoded data removed]",
      "text/plain": [
       "<Figure size 864x288 with 2 Axes>"
      ]
     },
     "metadata": {
      "needs_background": "light"
     },
     "output_type": "display_data"
    }
   ],
   "source": [
    "#problema simbolico\n",
    "p=sm.symbols('p', positive=True)\n",
    "A=sm.Matrix([[1,sm.sqrt(p)],[1,1/sm.sqrt(p)]])\n",
    "b=sm.Matrix([1,2])\n",
    "x_sym_sol=A.solve(b)\n",
    "Acond=A.condition_number().simplify()\n",
    "#problema numerico\n",
    "AA=lambda p: np.array([[1,np.sqrt(p)],[1,1/np.sqrt(p)]])\n",
    "bb=np.array([1,2])\n",
    "x_num_sol = lambda p: np.linalg.solve(AA(p),bb)\n",
    "#diferencia grafica entre soluc simbolica y numerica\n",
    "fig, axes = plt.subplots(1,2,figsize=(12,4))\n",
    "\n",
    "p_vec=np.linspace(0.9,1.1,200)\n",
    "for n in range(2):\n",
    "    x_sym=np.array([x_sym_sol[n].subs(p,pp).evalf() for pp in p_vec])\n",
    "    x_num=np.array([x_num_sol(pp)[n] for pp in p_vec])\n",
    "    axes[0].plot(p_vec, (x_num-x_sym)/x_sym,'r')\n",
    "axes[0].set_title('Error in solution\\n (symbolic - numerical)')\n",
    "axes[0].set_xlabel(r'$x$', fontsize=18)\n",
    "\n",
    "axes[1].plot(p_vec,[Acond.subs(p,pp).evalf() for pp in p_vec])                \n",
    "axes[1].set_title('Condition number')\n",
    "axes[1].set_xlabel(r'$x$', fontsize=18) "
   ]
  },
  {
   "cell_type": "markdown",
   "id": "2d590974",
   "metadata": {},
   "source": [
    "$\\left\\{\\begin{array}{lcl}\n",
    "x_1+2x_2+3x_3&=&7\\\\\n",
    "4x_1+5x_2+6x_3&=&8\n",
    "\\end{array}\\right.\n",
    "$"
   ]
  },
  {
   "cell_type": "code",
   "execution_count": 13,
   "id": "4678d8f1",
   "metadata": {},
   "outputs": [
    {
     "data": {
      "text/latex": [
       "$\\displaystyle \\left\\{ x_{1} : x_{3} - \\frac{19}{3}, \\  x_{2} : \\frac{20}{3} - 2 x_{3}\\right\\}$"
      ],
      "text/plain": [
       "{x₁: x₃ - 19/3, x₂: 20/3 - 2⋅x₃}"
      ]
     },
     "execution_count": 13,
     "metadata": {},
     "output_type": "execute_result"
    }
   ],
   "source": [
    "x_vars = sm.symbols('x_1,x_2,x_3')\n",
    "A=sm.Matrix([[1,2,3],[4,5,6]])\n",
    "x=sm.Matrix(x_vars)\n",
    "b=sm.Matrix([7,8])\n",
    "sm.solve(A*x-b,x_vars)"
   ]
  },
  {
   "cell_type": "code",
   "execution_count": 14,
   "id": "583b993f",
   "metadata": {},
   "outputs": [
    {
     "data": {
      "text/latex": [
       "$\\displaystyle \\left[ \\left( - \\sqrt{a^{2} + b^{2}}, \\  1, \\  \\left[ \\left[\\begin{matrix}\\frac{a}{b} - \\frac{\\sqrt{a^{2} + b^{2}}}{b}\\\\1\\end{matrix}\\right]\\right]\\right), \\  \\left( \\sqrt{a^{2} + b^{2}}, \\  1, \\  \\left[ \\left[\\begin{matrix}\\frac{a}{b} + \\frac{\\sqrt{a^{2} + b^{2}}}{b}\\\\1\\end{matrix}\\right]\\right]\\right)\\right]$"
      ],
      "text/plain": [
       "⎡⎛                  ⎡⎡       _________⎤⎤⎞  ⎛                 ⎡⎡       ________\n",
       "⎢⎜    _________     ⎢⎢      ╱  2    2 ⎥⎥⎟  ⎜   _________     ⎢⎢      ╱  2    2\n",
       "⎢⎜   ╱  2    2      ⎢⎢a   ╲╱  a  + b  ⎥⎥⎟  ⎜  ╱  2    2      ⎢⎢a   ╲╱  a  + b \n",
       "⎢⎜-╲╱  a  + b  , 1, ⎢⎢─ - ────────────⎥⎥⎟, ⎜╲╱  a  + b  , 1, ⎢⎢─ + ───────────\n",
       "⎢⎜                  ⎢⎢b        b      ⎥⎥⎟  ⎜                 ⎢⎢b        b     \n",
       "⎢⎜                  ⎢⎢                ⎥⎥⎟  ⎜                 ⎢⎢               \n",
       "⎣⎝                  ⎣⎣       1        ⎦⎦⎠  ⎝                 ⎣⎣       1       \n",
       "\n",
       "_⎤⎤⎞⎤\n",
       " ⎥⎥⎟⎥\n",
       " ⎥⎥⎟⎥\n",
       "─⎥⎥⎟⎥\n",
       " ⎥⎥⎟⎥\n",
       " ⎥⎥⎟⎥\n",
       " ⎦⎦⎠⎦"
      ]
     },
     "execution_count": 14,
     "metadata": {},
     "output_type": "execute_result"
    }
   ],
   "source": [
    "a,b=sm.symbols('a,b')\n",
    "H=sm.Matrix([[a,b],[b,-a]])\n",
    "H.eigenvals()\n",
    "H.eigenvects()"
   ]
  },
  {
   "cell_type": "code",
   "execution_count": 15,
   "id": "1e956d50",
   "metadata": {},
   "outputs": [
    {
     "data": {
      "text/latex": [
       "$\\displaystyle \\left\\{ 5 + \\left(- \\frac{1}{2} - \\frac{\\sqrt{3} i}{2}\\right) \\sqrt[3]{45 + \\frac{4 \\sqrt{28257} i}{9}} + \\frac{59}{3 \\left(- \\frac{1}{2} - \\frac{\\sqrt{3} i}{2}\\right) \\sqrt[3]{45 + \\frac{4 \\sqrt{28257} i}{9}}} : 1, \\  5 + \\frac{59}{3 \\left(- \\frac{1}{2} + \\frac{\\sqrt{3} i}{2}\\right) \\sqrt[3]{45 + \\frac{4 \\sqrt{28257} i}{9}}} + \\left(- \\frac{1}{2} + \\frac{\\sqrt{3} i}{2}\\right) \\sqrt[3]{45 + \\frac{4 \\sqrt{28257} i}{9}} : 1, \\  5 + \\frac{59}{3 \\sqrt[3]{45 + \\frac{4 \\sqrt{28257} i}{9}}} + \\sqrt[3]{45 + \\frac{4 \\sqrt{28257} i}{9}} : 1\\right\\}$"
      ],
      "text/plain": [
       "⎧                     _________________                                       \n",
       "⎪    ⎛  1   √3⋅ⅈ⎞    ╱      4⋅√28257⋅ⅈ                     59                 \n",
       "⎪5 + ⎜- ─ - ────⎟⋅3 ╱  45 + ──────────  + ────────────────────────────────────\n",
       "⎨    ⎝  2    2  ⎠ ╲╱            9                            _________________\n",
       "⎪                                           ⎛  1   √3⋅ⅈ⎞    ╱      4⋅√28257⋅ⅈ \n",
       "⎪                                         3⋅⎜- ─ - ────⎟⋅3 ╱  45 + ────────── \n",
       "⎩                                           ⎝  2    2  ⎠ ╲╱            9      \n",
       "\n",
       "                                                                 _____________\n",
       "                          59                    ⎛  1   √3⋅ⅈ⎞    ╱      4⋅√2825\n",
       ": 1, 5 + ──────────────────────────────────── + ⎜- ─ + ────⎟⋅3 ╱  45 + ───────\n",
       "                            _________________   ⎝  2    2  ⎠ ╲╱            9  \n",
       "           ⎛  1   √3⋅ⅈ⎞    ╱      4⋅√28257⋅ⅈ                                  \n",
       "         3⋅⎜- ─ + ────⎟⋅3 ╱  45 + ──────────                                  \n",
       "           ⎝  2    2  ⎠ ╲╱            9                                       \n",
       "\n",
       "____                                       _________________   ⎫\n",
       "7⋅ⅈ                     59                ╱      4⋅√28257⋅ⅈ    ⎪\n",
       "─── : 1, 5 + ─────────────────────── + 3 ╱  45 + ────────── : 1⎪\n",
       "                   _________________   ╲╱            9         ⎬\n",
       "                  ╱      4⋅√28257⋅ⅈ                            ⎪\n",
       "             3⋅3 ╱  45 + ──────────                            ⎪\n",
       "               ╲╱            9                                 ⎭"
      ]
     },
     "execution_count": 15,
     "metadata": {},
     "output_type": "execute_result"
    }
   ],
   "source": [
    "H1=sm.Matrix([[1,3,5],[3,5,3],[5,3,9]])# es una matriz simétrica\n",
    "H1.eigenvals()# sus eigenvals deben ser reales pero con sympy se ven complicados"
   ]
  },
  {
   "cell_type": "code",
   "execution_count": 16,
   "id": "ba138dcd",
   "metadata": {},
   "outputs": [
    {
     "data": {
      "text/plain": [
       "array([[1, 3, 5],\n",
       "       [3, 5, 3],\n",
       "       [5, 3, 9]])"
      ]
     },
     "execution_count": 16,
     "metadata": {},
     "output_type": "execute_result"
    }
   ],
   "source": [
    "A=np.array([[1,3,5],[3,5,3],[5,3,9]]) # la misma matriz simétrica de arriba\n",
    "evals, evecs=la.eig(A)\n",
    "A"
   ]
  },
  {
   "cell_type": "code",
   "execution_count": 17,
   "id": "d432da4e",
   "metadata": {},
   "outputs": [
    {
     "data": {
      "text/plain": [
       "array([13.35310908+0.j, -1.75902942+0.j,  3.40592034+0.j])"
      ]
     },
     "execution_count": 17,
     "metadata": {},
     "output_type": "execute_result"
    }
   ],
   "source": [
    "evals# eigenvals de A mas sencillos con Scipy"
   ]
  },
  {
   "cell_type": "code",
   "execution_count": 18,
   "id": "af38f6cc",
   "metadata": {},
   "outputs": [
    {
     "data": {
      "text/plain": [
       "array([[ 0.42663918,  0.90353276, -0.04009445],\n",
       "       [ 0.43751227, -0.24498225, -0.8651975 ],\n",
       "       [ 0.79155671, -0.35158534,  0.49982569]])"
      ]
     },
     "execution_count": 18,
     "metadata": {},
     "output_type": "execute_result"
    }
   ],
   "source": [
    "evecs# eigenvects mas sencillos con Scipy"
   ]
  },
  {
   "cell_type": "code",
   "execution_count": 19,
   "id": "d8bbbba3",
   "metadata": {},
   "outputs": [
    {
     "data": {
      "text/plain": [
       "array([-1.75902942,  3.40592034, 13.35310908])"
      ]
     },
     "execution_count": 19,
     "metadata": {},
     "output_type": "execute_result"
    }
   ],
   "source": [
    "la.eigvalsh(A)# esto para matrices hermit o simetricas"
   ]
  },
  {
   "cell_type": "code",
   "execution_count": 20,
   "id": "dad650b1",
   "metadata": {},
   "outputs": [
    {
     "data": {
      "text/plain": [
       "(array([-1.75902942,  3.40592034, 13.35310908]),\n",
       " array([[ 0.90353276, -0.04009445, -0.42663918],\n",
       "        [-0.24498225, -0.8651975 , -0.43751227],\n",
       "        [-0.35158534,  0.49982569, -0.79155671]]))"
      ]
     },
     "execution_count": 20,
     "metadata": {},
     "output_type": "execute_result"
    }
   ],
   "source": [
    "la.eigh(A)# para hermit y simetricas"
   ]
  },
  {
   "cell_type": "code",
   "execution_count": 21,
   "id": "c7e2dac0",
   "metadata": {},
   "outputs": [
    {
     "data": {
      "text/latex": [
       "$\\displaystyle \\left[ \\frac{\\pi}{4}\\right]$"
      ],
      "text/plain": [
       "⎡π⎤\n",
       "⎢─⎥\n",
       "⎣4⎦"
      ]
     },
     "execution_count": 21,
     "metadata": {},
     "output_type": "execute_result"
    }
   ],
   "source": [
    "x=sm.symbols('x')\n",
    "#sm.solveset(sm.sin(x)-sm.cos(x),x)\n",
    "sm.solve(sm.sin(x)-sm.cos(x),x)"
   ]
  },
  {
   "cell_type": "code",
   "execution_count": 22,
   "id": "27498ea4",
   "metadata": {},
   "outputs": [
    {
     "data": {
      "text/plain": [
       "[<matplotlib.axis.XTick at 0x243a11f6730>,\n",
       " <matplotlib.axis.XTick at 0x243a11f6700>,\n",
       " <matplotlib.axis.XTick at 0x2439f4784c0>,\n",
       " <matplotlib.axis.XTick at 0x243a123c400>]"
      ]
     },
     "execution_count": 22,
     "metadata": {},
     "output_type": "execute_result"
    },
    {
     "data": {
      "image/png": "[encoded data removed]",
      "text/plain": [
       "<Figure size 864x288 with 1 Axes>"
      ]
     },
     "metadata": {
      "needs_background": "light"
     },
     "output_type": "display_data"
    }
   ],
   "source": [
    "#defino función, tolerancia y punto inicio\n",
    "tol = 0.01\n",
    "xk=2\n",
    "s_x=sm.symbols('x')\n",
    "s_f=sm.exp(x)-2\n",
    "\n",
    "f=lambda x:sm.lambdify(s_x,s_f,'numpy')(x)\n",
    "fp=lambda x: sm.lambdify(s_x,sm.diff(s_f,s_x),'numpy')(x)\n",
    "\n",
    "x=np.linspace(-1,2.1,1000)\n",
    "#grafico para ver la raíz hallada\n",
    "fig, ax= plt.subplots(1,1,figsize=(12,4))\n",
    "\n",
    "ax.plot(x,f(x))\n",
    "ax.axhline(0,ls=':', color='k')\n",
    "\n",
    "#método iterativo hasta la tolerancia deseada\n",
    "n=0\n",
    "while f(xk)> tol:\n",
    "    xk_new=xk-f(xk)/fp(xk)\n",
    "    \n",
    "    ax.plot([xk,xk],[0,f(xk)],'k',ls=':')\n",
    "    ax.plot(xk,f(xk),'ko')\n",
    "    ax.text(xk,-.5,r'$x_%d$' % n, ha='center')\n",
    "    ax.plot([xk,xk_new],[f(xk),0],'k-')\n",
    "    \n",
    "    xk=xk_new\n",
    "    n+=1\n",
    "    \n",
    "ax.plot(xk,f(xk),'r*',markersize=15)    \n",
    "ax.annotate('Raíz aproximada en %.3f'% xk, \n",
    "           fontsize=14, family='serif',\n",
    "           xy=(xk,f(xk)), xycoords='data',\n",
    "           xytext=(-150,+50), textcoords='offset points',\n",
    "           arrowprops=dict(arrowstyle='->', connectionstyle='arc3,rad=-.5'))\n",
    "\n",
    "ax.set_title('Método de Newton')\n",
    "ax.set_xticks([-1,0,1,2])"
   ]
  },
  {
   "cell_type": "markdown",
   "id": "c0a52abd",
   "metadata": {},
   "source": [
    "# Cap. 6 Optimización"
   ]
  },
  {
   "cell_type": "markdown",
   "id": "a7fb0d8d",
   "metadata": {},
   "source": [
    "pip install cvxopt"
   ]
  },
  {
   "cell_type": "code",
   "execution_count": 23,
   "id": "a8c0570b",
   "metadata": {},
   "outputs": [],
   "source": [
    "from scipy import optimize\n",
    "import cvxopt\n",
    "import matplotlib.pyplot as plt\n",
    "import numpy as np\n",
    "import sympy as sm\n",
    "sm.init_printing(use_latex='mathjax')"
   ]
  },
  {
   "cell_type": "code",
   "execution_count": 24,
   "id": "0f1f0f14",
   "metadata": {},
   "outputs": [
    {
     "data": {
      "text/latex": [
       "$\\displaystyle \\frac{2^{\\frac{2}{3}}}{2 \\sqrt[3]{\\pi}}$"
      ],
      "text/plain": [
       "   2/3 \n",
       "  2    \n",
       "───────\n",
       "  3 ___\n",
       "2⋅╲╱ π "
      ]
     },
     "execution_count": 24,
     "metadata": {},
     "output_type": "execute_result"
    }
   ],
   "source": [
    "r,h=sm.symbols('r,h')\n",
    "Area=2*sm.pi*r**2+2*sm.pi*r*h\n",
    "Volumen=sm.pi*r**2*h\n",
    "h_r=sm.solve(Volumen-1)[0]#h_r es una lista de un solo elemento\n",
    "Area_r=Area.subs(h_r)#el h_r se sustituye en Area. Queremos minimizar Area_r\n",
    "rsol=sm.solve(Area_r.diff(r))[0]#rsol es una lista y se elije el primero real.\n",
    "rsol"
   ]
  },
  {
   "cell_type": "code",
   "execution_count": 25,
   "id": "f372aa3c",
   "metadata": {},
   "outputs": [
    {
     "data": {
      "text/latex": [
       "$\\displaystyle 0.541926070139289$"
      ],
      "text/plain": [
       "0.541926070139289"
      ]
     },
     "execution_count": 25,
     "metadata": {},
     "output_type": "execute_result"
    }
   ],
   "source": [
    "rsol.evalf()#nos dá el valor aproximado del anterior resultado"
   ]
  },
  {
   "cell_type": "code",
   "execution_count": 26,
   "id": "4bc39860",
   "metadata": {},
   "outputs": [
    {
     "data": {
      "text/latex": [
       "$\\displaystyle 12 \\pi$"
      ],
      "text/plain": [
       "12⋅π"
      ]
     },
     "execution_count": 26,
     "metadata": {},
     "output_type": "execute_result"
    }
   ],
   "source": [
    "Area_r.diff(r,2).subs(r,rsol)#En la 2da derivada de Area_r\n",
    "                            #sustitutimos en lugar de r por\n",
    "                           #el valor rsol."
   ]
  },
  {
   "cell_type": "markdown",
   "id": "a4e95684",
   "metadata": {},
   "source": [
    "|como en la linea anterior la 2da derivada salió positivo\n",
    "entonces es un mínimo. Luego para saber cuál es el minimo pedido\n",
    "se debe reemplazar rsol en Area_r"
   ]
  },
  {
   "cell_type": "code",
   "execution_count": 27,
   "id": "7821d43b",
   "metadata": {},
   "outputs": [
    {
     "data": {
      "text/latex": [
       "$\\displaystyle 3 \\sqrt[3]{2} \\sqrt[3]{\\pi}$"
      ],
      "text/plain": [
       "  3 ___ 3 ___\n",
       "3⋅╲╱ 2 ⋅╲╱ π "
      ]
     },
     "execution_count": 27,
     "metadata": {},
     "output_type": "execute_result"
    }
   ],
   "source": [
    "Area_r.subs(r,rsol)"
   ]
  },
  {
   "cell_type": "code",
   "execution_count": 28,
   "id": "c0c9f481",
   "metadata": {},
   "outputs": [
    {
     "data": {
      "text/latex": [
       "$\\displaystyle 5.53581044593209$"
      ],
      "text/plain": [
       "5.53581044593209"
      ]
     },
     "execution_count": 28,
     "metadata": {},
     "output_type": "execute_result"
    }
   ],
   "source": [
    "Area_r.subs(r,rsol).evalf()"
   ]
  },
  {
   "cell_type": "markdown",
   "id": "19ccb361",
   "metadata": {},
   "source": [
    "Ahora usemos $\\color{red}{\\text{ optimize.brent}}$ para resolver lo anterior"
   ]
  },
  {
   "cell_type": "code",
   "execution_count": 29,
   "id": "a0af9d14",
   "metadata": {},
   "outputs": [
    {
     "data": {
      "text/latex": [
       "$\\displaystyle 0.541926077255714$"
      ],
      "text/plain": [
       "0.5419260772557135"
      ]
     },
     "execution_count": 29,
     "metadata": {},
     "output_type": "execute_result"
    }
   ],
   "source": [
    "def f(r):\n",
    "    return 2*np.pi*r**2+2/r #es lo mismo que Area_r de arriba\n",
    "r_min=optimize.brent(f, brack=(0.1,4))\n",
    "r_min#Es el valor donde se alcanza el mínimo"
   ]
  },
  {
   "cell_type": "code",
   "execution_count": 30,
   "id": "3e4f08c1",
   "metadata": {},
   "outputs": [
    {
     "data": {
      "text/latex": [
       "$\\displaystyle 5.53581044593209$"
      ],
      "text/plain": [
       "5.535810445932086"
      ]
     },
     "execution_count": 30,
     "metadata": {},
     "output_type": "execute_result"
    }
   ],
   "source": [
    "f(r_min)#es el valor mínimo de la función"
   ]
  },
  {
   "cell_type": "markdown",
   "id": "7d51dd2c",
   "metadata": {},
   "source": [
    "Para funciones escalares podemos usar $\\color{blue}{\\text{optimize.minimize_scalar}}$"
   ]
  },
  {
   "cell_type": "code",
   "execution_count": 31,
   "id": "709f8d9c",
   "metadata": {},
   "outputs": [
    {
     "data": {
      "text/plain": [
       "     fun: 5.535810445932086\n",
       "    nfev: 17\n",
       "     nit: 13\n",
       " success: True\n",
       "       x: 0.5419260648976671"
      ]
     },
     "execution_count": 31,
     "metadata": {},
     "output_type": "execute_result"
    }
   ],
   "source": [
    "optimize.minimize_scalar(f, bracket=(0.1,5))"
   ]
  },
  {
   "cell_type": "markdown",
   "id": "3a6ea75d",
   "metadata": {},
   "source": [
    "## Minizar:  $f(x_1,x_2)=(x_1-1)^4+5(x_2-1)^2-2x_1x_2$"
   ]
  },
  {
   "cell_type": "code",
   "execution_count": 32,
   "id": "6d3dc3bd",
   "metadata": {},
   "outputs": [
    {
     "data": {
      "text/latex": [
       "$\\displaystyle \\left[\\begin{matrix}12 \\left(x_{1} - 1\\right)^{2} & -2\\\\-2 & 10\\end{matrix}\\right]$"
      ],
      "text/plain": [
       "⎡           2    ⎤\n",
       "⎢12⋅(x₁ - 1)   -2⎥\n",
       "⎢                ⎥\n",
       "⎣     -2       10⎦"
      ]
     },
     "execution_count": 32,
     "metadata": {},
     "output_type": "execute_result"
    }
   ],
   "source": [
    "x1,x2=sm.symbols('x_1,x_2')\n",
    "f_sym=(x1-1)**4+5*(x2-1)**2-2*x1*x2\n",
    "fprime_sym = [f_sym.diff(x_)for x_ in (x1,x2)]# devuelve el gradiente en una fila\n",
    "#Gradiente\n",
    "sm.Matrix(fprime_sym)# devuelve gradiente en una columna\n",
    "fhess_sym=[[f_sym.diff(x1_,x2_) for x1_ in (x1,x2)] for x2_ in (x1,x2)]# es el Hessiano pero dada en lista con dos sublistas\n",
    "#Hessiano\n",
    "sm.Matrix(fhess_sym)# es el Hessiano dado como matriz"
   ]
  },
  {
   "cell_type": "code",
   "execution_count": 33,
   "id": "ccb82a6d",
   "metadata": {},
   "outputs": [],
   "source": [
    "f_lmbda=sm.lambdify((x1,x2),f_sym, 'numpy')\n",
    "fprime_lmbda=sm.lambdify((x1,x2),fprime_sym,'numpy')\n",
    "fhess_lmbda=sm.lambdify((x1,x2),fhess_sym, 'numpy')"
   ]
  },
  {
   "cell_type": "code",
   "execution_count": 34,
   "id": "85dc501a",
   "metadata": {},
   "outputs": [],
   "source": [
    "def func_XY_to_X_Y(f):\n",
    "    \"\"\"Cambiamos f(X) por f(X[0],X[1])\"\"\"\n",
    "    return lambda X: np.array(f(X[0],X[1]))\n",
    "f=func_XY_to_X_Y(f_lmbda)\n",
    "fprime=func_XY_to_X_Y(fprime_lmbda)\n",
    "fhess=func_XY_to_X_Y(fhess_lmbda)"
   ]
  },
  {
   "cell_type": "code",
   "execution_count": 35,
   "id": "8a724c26",
   "metadata": {},
   "outputs": [
    {
     "name": "stdout",
     "output_type": "stream",
     "text": [
      "Optimization terminated successfully.\n",
      "         Current function value: -3.867223\n",
      "         Iterations: 8\n",
      "         Function evaluations: 10\n",
      "         Gradient evaluations: 10\n",
      "         Hessian evaluations: 8\n"
     ]
    }
   ],
   "source": [
    "x_opt = optimize.fmin_ncg(f,(0,0), fprime=fprime, fhess=fhess)"
   ]
  },
  {
   "cell_type": "markdown",
   "id": "f606211c",
   "metadata": {},
   "source": [
    "# Cap 7 Interpolación"
   ]
  },
  {
   "cell_type": "code",
   "execution_count": 33,
   "id": "73b47256",
   "metadata": {},
   "outputs": [],
   "source": [
    "from scipy import interpolate\n",
    "from numpy import polynomial as P\n",
    "import numpy as np\n",
    "from scipy import linalg as la\n",
    "import matplotlib.pyplot as plt"
   ]
  },
  {
   "cell_type": "code",
   "execution_count": 61,
   "id": "e324cd5c",
   "metadata": {},
   "outputs": [
    {
     "data": {
      "text/latex": [
       "$x \\mapsto \\text{5.0} - \\text{2.0}\\,x + \\text{1.0}\\,x^{2}$"
      ],
      "text/plain": [
       "Polynomial([ 5., -2.,  1.], domain=[-1,  1], window=[-1,  1])"
      ]
     },
     "execution_count": 61,
     "metadata": {},
     "output_type": "execute_result"
    }
   ],
   "source": [
    "p1=P.Polynomial([5,-2,1])\n",
    "p1#en [5,-2,1] 5 es term ind, -2 coef de x , etc"
   ]
  },
  {
   "cell_type": "code",
   "execution_count": 62,
   "id": "e41b6984",
   "metadata": {},
   "outputs": [
    {
     "data": {
      "text/latex": [
       "$x \\mapsto \\text{-1.0}\\color{LightGray}{ + \\text{0.0}\\,x} + \\text{1.0}\\,x^{2}$"
      ],
      "text/plain": [
       "Polynomial([-1.,  0.,  1.], domain=[-1.,  1.], window=[-1.,  1.])"
      ]
     },
     "execution_count": 62,
     "metadata": {},
     "output_type": "execute_result"
    }
   ],
   "source": [
    "p2=P.Polynomial.fromroots([-1,1])\n",
    "\"\"\"para construir polinomios a partir de sus raices\"\"\"\n",
    "p2"
   ]
  },
  {
   "cell_type": "code",
   "execution_count": 63,
   "id": "958a6e58",
   "metadata": {},
   "outputs": [
    {
     "data": {
      "text/plain": [
       "array([1.-2.j, 1.+2.j])"
      ]
     },
     "execution_count": 63,
     "metadata": {},
     "output_type": "execute_result"
    }
   ],
   "source": [
    "p1.roots()"
   ]
  },
  {
   "cell_type": "code",
   "execution_count": 64,
   "id": "05336a28",
   "metadata": {},
   "outputs": [
    {
     "data": {
      "text/plain": [
       "array([-1.,  1.])"
      ]
     },
     "execution_count": 64,
     "metadata": {},
     "output_type": "execute_result"
    }
   ],
   "source": [
    "p2.roots()"
   ]
  },
  {
   "cell_type": "code",
   "execution_count": 65,
   "id": "33eb0423",
   "metadata": {},
   "outputs": [
    {
     "data": {
      "text/latex": [
       "$x \\mapsto \\text{-6.0} - \\text{1.0}\\,x + \\text{10.0}\\,x^{2}\\color{LightGray}{ + \\text{0.0}\\,x^{3}} - \\text{4.0}\\,x^{4} + \\text{1.0}\\,x^{5}$"
      ],
      "text/plain": [
       "Polynomial([-6., -1., 10.,  0., -4.,  1.], domain=[-1.,  1.], window=[-1.,  1.])"
      ]
     },
     "execution_count": 65,
     "metadata": {},
     "output_type": "execute_result"
    }
   ],
   "source": [
    "p3=P.Polynomial.fromroots([-1,-1,2,3,1])\n",
    "\"\"\"construimos un polinomio que tenga por raices a \n",
    "numeros -1,-1,2,3,1\"\"\"\n",
    "p3"
   ]
  },
  {
   "cell_type": "code",
   "execution_count": 66,
   "id": "8f7a506b",
   "metadata": {},
   "outputs": [
    {
     "data": {
      "text/plain": [
       "array([ 5.,  8.,  4., 13.])"
      ]
     },
     "execution_count": 66,
     "metadata": {},
     "output_type": "execute_result"
    }
   ],
   "source": [
    "#p1(-3)#es para evaluar el polinomio p1: x^2-2x+5 en x=-3\n",
    "p1(np.array([0,-1,1,4]))#para evaluar en 0,-1,1,4"
   ]
  },
  {
   "cell_type": "code",
   "execution_count": 67,
   "id": "7ec59b3f",
   "metadata": {},
   "outputs": [
    {
     "data": {
      "text/latex": [
       "$x \\mapsto \\text{3.0} - \\text{4.0}\\,x + \\text{1.0}\\,x^{2}$"
      ],
      "text/plain": [
       "Polynomial([ 3., -4.,  1.], domain=[-1.,  1.], window=[-1.,  1.])"
      ]
     },
     "execution_count": 67,
     "metadata": {},
     "output_type": "execute_result"
    }
   ],
   "source": [
    "q1=P.Polynomial.fromroots([1,2,3])#q1=-6+11x-6x^2+x^3\n",
    "q2=P.Polynomial.fromroots([2])#q2=-2+x\n",
    "q3=q1//q2 # // es para dividir polinomios\n",
    "q3"
   ]
  },
  {
   "cell_type": "code",
   "execution_count": 68,
   "id": "e3ce453d",
   "metadata": {},
   "outputs": [
    {
     "data": {
      "text/latex": [
       "$x \\mapsto \\text{12.0} - \\text{28.0}\\,x + \\text{23.0}\\,x^{2} - \\text{8.0}\\,x^{3} + \\text{1.0}\\,x^{4}$"
      ],
      "text/plain": [
       "Polynomial([ 12., -28.,  23.,  -8.,   1.], domain=[-1.,  1.], window=[-1.,  1.])"
      ]
     },
     "execution_count": 68,
     "metadata": {},
     "output_type": "execute_result"
    }
   ],
   "source": [
    "q2*q1#multiplicación de polinomios"
   ]
  },
  {
   "cell_type": "code",
   "execution_count": 69,
   "id": "5e693788",
   "metadata": {},
   "outputs": [
    {
     "data": {
      "text/latex": [
       "$x \\mapsto \\text{-8.0} + \\text{12.0}\\,x - \\text{6.0}\\,x^{2} + \\text{1.0}\\,x^{3}$"
      ],
      "text/plain": [
       "Polynomial([-8., 12., -6.,  1.], domain=[-1.,  1.], window=[-1.,  1.])"
      ]
     },
     "execution_count": 69,
     "metadata": {},
     "output_type": "execute_result"
    }
   ],
   "source": [
    "q1+q2"
   ]
  },
  {
   "cell_type": "markdown",
   "id": "8d775522",
   "metadata": {},
   "source": [
    "## Polinomio de interpolación\n",
    "Queremos hallar un polinomio que interpole los puntos\n",
    "$(1,1),(2,3),(3,5), (4,4)$. Construimos primero los numpy array para x e y, luego construimos el polinomio de grado 3 (numero de datos menos 1) en la base de potencias $f(x)=\\sum_{i=1}^{4}c_1x^{i-1}=c_1x^0+c_2x^1+c_3x^2+c_4x^3$ y hallamos la matriz de Vandermonde A para resolver Ac=y ó $c=A^{-1}y$"
   ]
  },
  {
   "cell_type": "code",
   "execution_count": 34,
   "id": "b8ec4a66",
   "metadata": {},
   "outputs": [
    {
     "data": {
      "text/plain": [
       "array([[ 1.,  1.,  1.,  1.],\n",
       "       [ 1.,  2.,  4.,  8.],\n",
       "       [ 1.,  3.,  9., 27.],\n",
       "       [ 1.,  4., 16., 64.]])"
      ]
     },
     "execution_count": 34,
     "metadata": {},
     "output_type": "execute_result"
    }
   ],
   "source": [
    "x=np.array([1,2,3,4])\n",
    "y=np.array([1,3,5,4])\n",
    "deg=len(x)-1\n",
    "A=P.polynomial.polyvander(x,deg)\n",
    "A"
   ]
  },
  {
   "cell_type": "code",
   "execution_count": 35,
   "id": "42afaf90",
   "metadata": {},
   "outputs": [
    {
     "data": {
      "text/plain": [
       "array([ 2. , -3.5,  3. , -0.5])"
      ]
     },
     "execution_count": 35,
     "metadata": {},
     "output_type": "execute_result"
    }
   ],
   "source": [
    "c=la.solve(A,y)\n",
    "c# se encuentra c_0,c_1,c_2 y c_3"
   ]
  },
  {
   "cell_type": "markdown",
   "id": "7e2cf5d2",
   "metadata": {},
   "source": [
    "Resulta el polinomio interpolante \n",
    "$f(x)=2-3.5x+3x^2-0.5x^3$"
   ]
  },
  {
   "cell_type": "code",
   "execution_count": 36,
   "id": "c1b7803f",
   "metadata": {},
   "outputs": [
    {
     "data": {
      "text/plain": [
       "array([1.    , 3.    , 5.    , 4.    , 4.1875])"
      ]
     },
     "execution_count": 36,
     "metadata": {},
     "output_type": "execute_result"
    }
   ],
   "source": [
    "f=P.Polynomial(c)# con c hallado escribimos f(x)\n",
    "f(np.array([1,2,3,4,2.5]))# podemos evaluar en cualquier numero o array"
   ]
  },
  {
   "cell_type": "markdown",
   "id": "90cffb02",
   "metadata": {},
   "source": [
    "Construyamos la gráfica del polinomio interpolante"
   ]
  },
  {
   "cell_type": "code",
   "execution_count": 38,
   "id": "6fe25b3d",
   "metadata": {},
   "outputs": [
    {
     "data": {
      "image/png": "[encoded data removed]",
      "text/plain": [
       "<Figure size 576x288 with 1 Axes>"
      ]
     },
     "metadata": {
      "needs_background": "light"
     },
     "output_type": "display_data"
    }
   ],
   "source": [
    "%matplotlib inline\n",
    "from matplotlib import rc\n",
    "xx=np.linspace(x.min(), x.max(),100)#desde el minimo valor de x a su maximo valor\n",
    "fig, ax = plt.subplots(1,1,figsize=(8,4))\n",
    "ax.plot(xx,f(xx),'g',lw=2,label='interp base potencial')\n",
    "ax.scatter(x,y,label='puntos dados')\n",
    "#rc('font', **{'family': 'serif', 'serif': ['Computer Modern']})\n",
    "#rc('text', usetex=True)\n",
    "ax.legend(loc=4)\n",
    "ax.set_xticks(x)#usa los puntos de x como ticks\n",
    "ax.set_xlabel('$x$', fontsize=18)\n",
    "ax.set_title('Polinomio interpolante: $f(x)=2-3.5x+3x^2-0.5x^3$' )\n",
    "#plt.grid()\n",
    "plt.show()"
   ]
  },
  {
   "cell_type": "markdown",
   "id": "e76612d1",
   "metadata": {},
   "source": [
    "Polinomio de interpolación para la función de  Runge"
   ]
  },
  {
   "cell_type": "code",
   "execution_count": 39,
   "id": "7fad6a2f",
   "metadata": {},
   "outputs": [],
   "source": [
    "def runge(x):\n",
    "    return 1/(1+25*x**2)\n",
    "def runge_interpolate(n):\n",
    "    x=np.linspace(-1,1,n)\n",
    "    p=P.Polynomial.fit(x,runge(x), deg=n)\n",
    "    return x,p"
   ]
  },
  {
   "cell_type": "code",
   "execution_count": 44,
   "id": "3c8e933e",
   "metadata": {},
   "outputs": [
    {
     "name": "stderr",
     "output_type": "stream",
     "text": [
      "C:\\Users\\Teodoro\\anaconda3\\lib\\site-packages\\numpy\\polynomial\\polynomial.py:1361: RankWarning: The fit may be poorly conditioned\n",
      "  return pu._fit(polyvander, x, y, deg, rcond, full, w)\n",
      "C:\\Users\\Teodoro\\anaconda3\\lib\\site-packages\\numpy\\polynomial\\polynomial.py:1361: RankWarning: The fit may be poorly conditioned\n",
      "  return pu._fit(polyvander, x, y, deg, rcond, full, w)\n"
     ]
    },
    {
     "data": {
      "image/png": "[encoded data removed]",
      "text/plain": [
       "<Figure size 576x288 with 1 Axes>"
      ]
     },
     "metadata": {
      "needs_background": "light"
     },
     "output_type": "display_data"
    }
   ],
   "source": [
    "xx=np.linspace(-1,1,250)\n",
    "fig, ax =plt.subplots(1,1,figsize=(8,4))\n",
    "ax.plot(xx,runge(xx), 'k', lw=2, label='función de Runge')\n",
    "#interpolación de orden 13 de la función Runge\n",
    "n=13\n",
    "x,p=runge_interpolate(n)\n",
    "ax.plot(x,runge(x), 'ro')\n",
    "ax.plot(xx,p(xx),'r',label='interp. order %d' % n)\n",
    "# interpolación de orden 14 de la función Runge\n",
    "n=14\n",
    "x,p=runge_interpolate(n)\n",
    "ax.plot(x,runge(x), 'go')\n",
    "ax.plot(xx,p(xx),'g',label='interp. order %d' % n)\n",
    "ax.legend(loc=8)\n",
    "ax.set_xlim(-1.1,1.1)\n",
    "ax.set_ylim(-1,2)\n",
    "ax.set_xticks([-1,-0.5,0,0.5,1])\n",
    "ax.set_xlabel(r'$x$', fontsize=18)\n",
    "plt.show()"
   ]
  },
  {
   "cell_type": "code",
   "execution_count": 42,
   "id": "253adfbd",
   "metadata": {},
   "outputs": [
    {
     "data": {
      "image/png": "[encoded data removed]",
      "text/plain": [
       "<Figure size 576x288 with 1 Axes>"
      ]
     },
     "metadata": {
      "needs_background": "light"
     },
     "output_type": "display_data"
    }
   ],
   "source": [
    "x=np.linspace(-1,1,11)\n",
    "y=runge(x)\n",
    "f_i=interpolate.interp1d(x,y,kind=3)\n",
    "xx=np.linspace(-1,1,100)\n",
    "fig, ax=plt.subplots(figsize=(8,4))\n",
    "ax.plot(xx,runge(xx),'k',lw=1,label='función de Runge')\n",
    "ax.plot(x,y,'ro', label='sample points')\n",
    "ax.plot(xx,f_i(xx),'r--',lw=2, label='spline  orden 3')\n",
    "ax.legend()\n",
    "ax.set_xticks([-1,-0.5,0,0.5,1])\n",
    "ax.set_xlabel(r'$x$', fontsize=18)\n",
    "plt.show()"
   ]
  },
  {
   "cell_type": "code",
   "execution_count": 43,
   "id": "6078ccaf",
   "metadata": {},
   "outputs": [
    {
     "ename": "ValueError",
     "evalue": "Odd degree for now only. Got 6.",
     "output_type": "error",
     "traceback": [
      "\u001b[1;31m---------------------------------------------------------------------------\u001b[0m",
      "\u001b[1;31mValueError\u001b[0m                                Traceback (most recent call last)",
      "\u001b[1;32m<ipython-input-43-ebc6973e87b3>\u001b[0m in \u001b[0;36m<module>\u001b[1;34m\u001b[0m\n\u001b[0;32m      6\u001b[0m \u001b[1;33m\u001b[0m\u001b[0m\n\u001b[0;32m      7\u001b[0m \u001b[1;32mfor\u001b[0m \u001b[0mn\u001b[0m \u001b[1;32min\u001b[0m \u001b[1;33m[\u001b[0m\u001b[1;36m1\u001b[0m\u001b[1;33m,\u001b[0m\u001b[1;36m2\u001b[0m\u001b[1;33m,\u001b[0m\u001b[1;36m3\u001b[0m\u001b[1;33m,\u001b[0m\u001b[1;36m6\u001b[0m\u001b[1;33m]\u001b[0m\u001b[1;33m:\u001b[0m\u001b[1;33m\u001b[0m\u001b[1;33m\u001b[0m\u001b[0m\n\u001b[1;32m----> 8\u001b[1;33m     \u001b[0mf\u001b[0m\u001b[1;33m=\u001b[0m\u001b[0minterpolate\u001b[0m\u001b[1;33m.\u001b[0m\u001b[0minterp1d\u001b[0m\u001b[1;33m(\u001b[0m\u001b[0mx\u001b[0m\u001b[1;33m,\u001b[0m\u001b[0my\u001b[0m\u001b[1;33m,\u001b[0m\u001b[0mkind\u001b[0m\u001b[1;33m=\u001b[0m\u001b[0mn\u001b[0m\u001b[1;33m)\u001b[0m\u001b[1;33m\u001b[0m\u001b[1;33m\u001b[0m\u001b[0m\n\u001b[0m\u001b[0;32m      9\u001b[0m     \u001b[0max\u001b[0m\u001b[1;33m.\u001b[0m\u001b[0mplot\u001b[0m\u001b[1;33m(\u001b[0m\u001b[0mxx\u001b[0m\u001b[1;33m,\u001b[0m\u001b[0mf\u001b[0m\u001b[1;33m(\u001b[0m\u001b[0mxx\u001b[0m\u001b[1;33m)\u001b[0m\u001b[1;33m,\u001b[0m\u001b[0mlabel\u001b[0m\u001b[1;33m=\u001b[0m\u001b[1;34m'order %d'\u001b[0m \u001b[1;33m%\u001b[0m \u001b[0mn\u001b[0m\u001b[1;33m)\u001b[0m\u001b[1;33m\u001b[0m\u001b[1;33m\u001b[0m\u001b[0m\n\u001b[0;32m     10\u001b[0m \u001b[1;33m\u001b[0m\u001b[0m\n",
      "\u001b[1;32m~\\anaconda3\\lib\\site-packages\\scipy\\interpolate\\interpolate.py\u001b[0m in \u001b[0;36m__init__\u001b[1;34m(***failed resolving arguments***)\u001b[0m\n\u001b[0;32m    544\u001b[0m                     \u001b[0mrewrite_nan\u001b[0m \u001b[1;33m=\u001b[0m \u001b[1;32mTrue\u001b[0m\u001b[1;33m\u001b[0m\u001b[1;33m\u001b[0m\u001b[0m\n\u001b[0;32m    545\u001b[0m \u001b[1;33m\u001b[0m\u001b[0m\n\u001b[1;32m--> 546\u001b[1;33m             self._spline = make_interp_spline(xx, yy, k=order,\n\u001b[0m\u001b[0;32m    547\u001b[0m                                               check_finite=False)\n\u001b[0;32m    548\u001b[0m             \u001b[1;32mif\u001b[0m \u001b[0mrewrite_nan\u001b[0m\u001b[1;33m:\u001b[0m\u001b[1;33m\u001b[0m\u001b[1;33m\u001b[0m\u001b[0m\n",
      "\u001b[1;32m~\\anaconda3\\lib\\site-packages\\scipy\\interpolate\\_bsplines.py\u001b[0m in \u001b[0;36mmake_interp_spline\u001b[1;34m(x, y, k, t, bc_type, axis, check_finite)\u001b[0m\n\u001b[0;32m    775\u001b[0m                            (x[-1],)*(k+1)]\n\u001b[0;32m    776\u001b[0m             \u001b[1;32melse\u001b[0m\u001b[1;33m:\u001b[0m\u001b[1;33m\u001b[0m\u001b[1;33m\u001b[0m\u001b[0m\n\u001b[1;32m--> 777\u001b[1;33m                 \u001b[0mt\u001b[0m \u001b[1;33m=\u001b[0m \u001b[0m_not_a_knot\u001b[0m\u001b[1;33m(\u001b[0m\u001b[0mx\u001b[0m\u001b[1;33m,\u001b[0m \u001b[0mk\u001b[0m\u001b[1;33m)\u001b[0m\u001b[1;33m\u001b[0m\u001b[1;33m\u001b[0m\u001b[0m\n\u001b[0m\u001b[0;32m    778\u001b[0m         \u001b[1;32melse\u001b[0m\u001b[1;33m:\u001b[0m\u001b[1;33m\u001b[0m\u001b[1;33m\u001b[0m\u001b[0m\n\u001b[0;32m    779\u001b[0m             \u001b[0mt\u001b[0m \u001b[1;33m=\u001b[0m \u001b[0m_augknt\u001b[0m\u001b[1;33m(\u001b[0m\u001b[0mx\u001b[0m\u001b[1;33m,\u001b[0m \u001b[0mk\u001b[0m\u001b[1;33m)\u001b[0m\u001b[1;33m\u001b[0m\u001b[1;33m\u001b[0m\u001b[0m\n",
      "\u001b[1;32m~\\anaconda3\\lib\\site-packages\\scipy\\interpolate\\_bsplines.py\u001b[0m in \u001b[0;36m_not_a_knot\u001b[1;34m(x, k)\u001b[0m\n\u001b[0;32m    571\u001b[0m     \u001b[0mx\u001b[0m \u001b[1;33m=\u001b[0m \u001b[0mnp\u001b[0m\u001b[1;33m.\u001b[0m\u001b[0masarray\u001b[0m\u001b[1;33m(\u001b[0m\u001b[0mx\u001b[0m\u001b[1;33m)\u001b[0m\u001b[1;33m\u001b[0m\u001b[1;33m\u001b[0m\u001b[0m\n\u001b[0;32m    572\u001b[0m     \u001b[1;32mif\u001b[0m \u001b[0mk\u001b[0m \u001b[1;33m%\u001b[0m \u001b[1;36m2\u001b[0m \u001b[1;33m!=\u001b[0m \u001b[1;36m1\u001b[0m\u001b[1;33m:\u001b[0m\u001b[1;33m\u001b[0m\u001b[1;33m\u001b[0m\u001b[0m\n\u001b[1;32m--> 573\u001b[1;33m         \u001b[1;32mraise\u001b[0m \u001b[0mValueError\u001b[0m\u001b[1;33m(\u001b[0m\u001b[1;34m\"Odd degree for now only. Got %s.\"\u001b[0m \u001b[1;33m%\u001b[0m \u001b[0mk\u001b[0m\u001b[1;33m)\u001b[0m\u001b[1;33m\u001b[0m\u001b[1;33m\u001b[0m\u001b[0m\n\u001b[0m\u001b[0;32m    574\u001b[0m \u001b[1;33m\u001b[0m\u001b[0m\n\u001b[0;32m    575\u001b[0m     \u001b[0mm\u001b[0m \u001b[1;33m=\u001b[0m \u001b[1;33m(\u001b[0m\u001b[0mk\u001b[0m \u001b[1;33m-\u001b[0m \u001b[1;36m1\u001b[0m\u001b[1;33m)\u001b[0m \u001b[1;33m//\u001b[0m \u001b[1;36m2\u001b[0m\u001b[1;33m\u001b[0m\u001b[1;33m\u001b[0m\u001b[0m\n",
      "\u001b[1;31mValueError\u001b[0m: Odd degree for now only. Got 6."
     ]
    },
    {
     "data": {
      "image/png": "[encoded data removed]",
      "text/plain": [
       "<Figure size 576x288 with 1 Axes>"
      ]
     },
     "metadata": {
      "needs_background": "light"
     },
     "output_type": "display_data"
    }
   ],
   "source": [
    "x=np.array([0,1,2,3,4,5,6,7])\n",
    "y=np.array([3,4,3.5,2,1,1.5,1.25,0.9])\n",
    "xx=np.linspace(x.min(),x.max(),100)\n",
    "fig, ax =plt.subplots(figsize=(8,4))\n",
    "ax.scatter(x,y)\n",
    "\n",
    "for n in [1,2,3,6]:\n",
    "    f=interpolate.interp1d(x,y,kind=n)\n",
    "    ax.plot(xx,f(xx),label='order %d' % n)\n",
    "    \n",
    "ax.legend()\n",
    "ax.set_xlabel(r\"$x$\", fontsize=18)"
   ]
  },
  {
   "cell_type": "code",
   "execution_count": 112,
   "id": "ea1d6af2",
   "metadata": {},
   "outputs": [
    {
     "data": {
      "image/png": "[encoded data removed]",
      "text/plain": [
       "<Figure size 864x360 with 4 Axes>"
      ]
     },
     "metadata": {
      "needs_background": "light"
     },
     "output_type": "display_data"
    }
   ],
   "source": [
    "x=y=np.linspace(-2,2,10)#x e y toman vlaores de -2 a 2\n",
    "def f(x,y):\n",
    "    return np.exp(-(x+.5)**2-2*(y+.5)**2)-np.exp(-(x-.5)**2-2*(y-.5)**2)\n",
    "X,Y=np.meshgrid(x,y)\n",
    "#simulación en los puntos X,Y\n",
    "Z=f(x,Y)+0.05*np.random.randn(*X.shape)\n",
    "f_i=interpolate.interp2d(x,y,Z, kind='cubic')\n",
    "xx=yy=np.linspace(x.min(),x.max(),100)\n",
    "ZZi=f_i(xx,yy)\n",
    "XX,YY=np.meshgrid(xx,yy)\n",
    "fig, axes=plt.subplots(1,2,figsize=(12,5))\n",
    "#primero plotea el contorno de la funcion exacta\n",
    "c=axes[0].contourf(XX,YY,f(XX,YY),15, cmap=plt.cm.RdBu)\n",
    "axes[0].set_xlabel(r\"$x$\",fontsize=20)\n",
    "axes[0].set_ylabel(r\"$y$\",fontsize=20)\n",
    "axes[0].set_title(\"exact/ high sampling\")\n",
    "cb=fig.colorbar(c,ax=axes[0])\n",
    "cb.set_label(r\"$z$\",fontsize=20)\n",
    "#next, plot the contour of the supersampled interpolation\n",
    "c=axes[1].contourf(XX,YY,ZZi,15,cmap=plt.cm.RdBu)\n",
    "axes[1].set_ylim(-2.1,2.1)\n",
    "axes[1].set_xlim(-2.1,2.1)\n",
    "axes[1].set_xlabel(\"$x$\",fontsize=20)\n",
    "axes[1].set_ylabel(\"$y$\",fontsize=20)\n",
    "axes[1].scatter(X,Y,marker='x',color='k')\n",
    "axes[1].set_title(\"interpolation of noisy data/low sampling\")\n",
    "cb=fig.colorbar(c,ax=axes[1])\n",
    "cb.set_label(r\"$z$\",fontsize=20)"
   ]
  },
  {
   "cell_type": "markdown",
   "id": "da770ffa",
   "metadata": {},
   "source": [
    "# Cap. 8 Integración"
   ]
  },
  {
   "cell_type": "code",
   "execution_count": 4,
   "id": "0167ddfd",
   "metadata": {},
   "outputs": [],
   "source": [
    "import numpy as np\n",
    "import matplotlib.pyplot as plt\n",
    "from scipy import integrate\n",
    "import sympy as sm\n",
    "sm.init_printing()"
   ]
  },
  {
   "cell_type": "code",
   "execution_count": 2,
   "id": "59691ca3",
   "metadata": {},
   "outputs": [
    {
     "data": {
      "image/png": "[encoded data removed]",
      "text/latex": [
       "$\\displaystyle \\left[ w_{0}, \\  w_{1}, \\  w_{2}\\right]$"
      ],
      "text/plain": [
       "[w₀, w₁, w₂]"
      ]
     },
     "execution_count": 2,
     "metadata": {},
     "output_type": "execute_result"
    }
   ],
   "source": [
    "a,b,X=sm.symbols('a,b,x')\n",
    "f=sm.Function('f')\n",
    "x=a,(a+b)/2, b# para regla de Simpson\n",
    "w=[sm.symbols('w_%d'% i) for i in range(len(x))]\n",
    "w"
   ]
  },
  {
   "cell_type": "markdown",
   "id": "c5363d6a",
   "metadata": {},
   "source": [
    "Dado x y w construimos expresion simbolica de regla de cuadratura"
   ]
  },
  {
   "cell_type": "code",
   "execution_count": 3,
   "id": "e1d297dc",
   "metadata": {},
   "outputs": [
    {
     "data": {
      "image/png": "[encoded data removed]",
      "text/latex": [
       "$\\displaystyle w_{0} f{\\left(a \\right)} + w_{1} f{\\left(\\frac{a}{2} + \\frac{b}{2} \\right)} + w_{2} f{\\left(b \\right)}$"
      ],
      "text/plain": [
       "              ⎛a   b⎞          \n",
       "w₀⋅f(a) + w₁⋅f⎜─ + ─⎟ + w₂⋅f(b)\n",
       "              ⎝2   2⎠          "
      ]
     },
     "execution_count": 3,
     "metadata": {},
     "output_type": "execute_result"
    }
   ],
   "source": [
    "q_rule=sum([w[i]*f(x[i])for i in range(len(x))])\n",
    "q_rule"
   ]
  },
  {
   "cell_type": "code",
   "execution_count": 4,
   "id": "d29c9207",
   "metadata": {},
   "outputs": [
    {
     "data": {
      "image/png": "[encoded data removed]",
      "text/latex": [
       "$\\displaystyle \\left[ \\left( x \\mapsto 1 \\right), \\  \\left( x \\mapsto x \\right), \\  \\left( x \\mapsto x^{2} \\right)\\right]$"
      ],
      "text/plain": [
       "⎡                   2⎤\n",
       "⎣x ↦ 1, x ↦ x, x ↦ x ⎦"
      ]
     },
     "execution_count": 4,
     "metadata": {},
     "output_type": "execute_result"
    }
   ],
   "source": [
    "phi=[sm.Lambda(X,X**n)for n in range(len(x))]\n",
    "phi"
   ]
  },
  {
   "cell_type": "markdown",
   "id": "3cab8043",
   "metadata": {},
   "source": [
    "Integración numérica con Scipy: $\\displaystyle\\int_{-1}^{1}e^{-x^2}$"
   ]
  },
  {
   "cell_type": "code",
   "execution_count": 5,
   "id": "876fca94",
   "metadata": {},
   "outputs": [
    {
     "data": {
      "image/png": "[encoded data removed]",
      "text/latex": [
       "$\\displaystyle 1.49364826562485$"
      ],
      "text/plain": [
       "1.493648265624854"
      ]
     },
     "execution_count": 5,
     "metadata": {},
     "output_type": "execute_result"
    }
   ],
   "source": [
    "def f(x):\n",
    "    return np.exp(-x**2)\n",
    "val,err =integrate.quad(f,-1,1)\n",
    "val"
   ]
  },
  {
   "cell_type": "code",
   "execution_count": 6,
   "id": "5fbe56c1",
   "metadata": {},
   "outputs": [
    {
     "data": {
      "image/png": "[encoded data removed]",
      "text/latex": [
       "$\\displaystyle 1.65828269518814 \\cdot 10^{-14}$"
      ],
      "text/plain": [
       "1.6582826951881447e-14"
      ]
     },
     "execution_count": 6,
     "metadata": {},
     "output_type": "execute_result"
    }
   ],
   "source": [
    "err"
   ]
  },
  {
   "cell_type": "markdown",
   "id": "c0887bf6",
   "metadata": {},
   "source": [
    "$\\displaystyle\\int_{-1}^{1}ae^{-((x-b)/c)^2}$"
   ]
  },
  {
   "cell_type": "code",
   "execution_count": 7,
   "id": "a814ef6a",
   "metadata": {},
   "outputs": [
    {
     "data": {
      "image/png": "[encoded data removed]",
      "text/latex": [
       "$\\displaystyle 1.27630683510222$"
      ],
      "text/plain": [
       "1.2763068351022229"
      ]
     },
     "execution_count": 7,
     "metadata": {},
     "output_type": "execute_result"
    }
   ],
   "source": [
    "def f(x,a,b,c):\n",
    "    return a*np.exp(-((x-b)/c)**2)\n",
    "val, err =integrate.quad(f,-1,1,args=(1,2,3))\n",
    "val"
   ]
  },
  {
   "cell_type": "code",
   "execution_count": 8,
   "id": "9435afdb",
   "metadata": {},
   "outputs": [
    {
     "data": {
      "image/png": "[encoded data removed]",
      "text/latex": [
       "$\\displaystyle 1.41698523481695 \\cdot 10^{-14}$"
      ],
      "text/plain": [
       "1.4169852348169507e-14"
      ]
     },
     "execution_count": 8,
     "metadata": {},
     "output_type": "execute_result"
    }
   ],
   "source": [
    "err"
   ]
  },
  {
   "cell_type": "markdown",
   "id": "389369c0",
   "metadata": {},
   "source": [
    "$\\displaystyle\\int_{-\\infty}^{\\infty}e^{-x^2}dx$"
   ]
  },
  {
   "cell_type": "code",
   "execution_count": 9,
   "id": "019e885f",
   "metadata": {},
   "outputs": [
    {
     "data": {
      "image/png": "[encoded data removed]",
      "text/latex": [
       "$\\displaystyle 1.77245385090552$"
      ],
      "text/plain": [
       "1.7724538509055159"
      ]
     },
     "execution_count": 9,
     "metadata": {},
     "output_type": "execute_result"
    }
   ],
   "source": [
    "f=lambda x:np.exp(-x**2)\n",
    "val,err=integrate.quad(f,-np.inf,np.inf)\n",
    "val"
   ]
  },
  {
   "cell_type": "code",
   "execution_count": 10,
   "id": "7d53f399",
   "metadata": {},
   "outputs": [
    {
     "data": {
      "image/png": "[encoded data removed]",
      "text/latex": [
       "$\\displaystyle 1.42026367818309 \\cdot 10^{-8}$"
      ],
      "text/plain": [
       "1.4202636781830878e-08"
      ]
     },
     "execution_count": 10,
     "metadata": {},
     "output_type": "execute_result"
    }
   ],
   "source": [
    "err"
   ]
  },
  {
   "cell_type": "markdown",
   "id": "e70a34b7",
   "metadata": {},
   "source": [
    "La función $\\color{blue}{integrate.quad}$ es conveniente para calcular integrales donde el integrando es una función de Python"
   ]
  },
  {
   "cell_type": "code",
   "execution_count": 13,
   "id": "fdfa7638",
   "metadata": {},
   "outputs": [
    {
     "name": "stderr",
     "output_type": "stream",
     "text": [
      "<ipython-input-13-f6d0f5dcd7c1>:1: RuntimeWarning: divide by zero encountered in double_scalars\n",
      "  f=lambda x: 1/np.sqrt(abs(x))\n",
      "<ipython-input-13-f6d0f5dcd7c1>:3: IntegrationWarning: The maximum number of subdivisions (50) has been achieved.\n",
      "  If increasing the limit yields no improvement it is advised to analyze \n",
      "  the integrand in order to determine the difficulties.  If the position of a \n",
      "  local difficulty can be determined (singularity, discontinuity) one will \n",
      "  probably gain from splitting up the interval and calling the integrator \n",
      "  on the subranges.  Perhaps a special-purpose integrator should be used.\n",
      "  integrate.quad(f,a,b)\n"
     ]
    },
    {
     "data": {
      "image/png": "[encoded data removed]",
      "text/latex": [
       "$\\displaystyle \\left( \\text{NaN}, \\  \\text{NaN}\\right)$"
      ],
      "text/plain": [
       "(nan, nan)"
      ]
     },
     "execution_count": 13,
     "metadata": {},
     "output_type": "execute_result"
    }
   ],
   "source": [
    "f=lambda x: 1/np.sqrt(abs(x))\n",
    "a,b=-1,1\n",
    "integrate.quad(f,a,b)"
   ]
  },
  {
   "cell_type": "code",
   "execution_count": 25,
   "id": "21aa0c2a",
   "metadata": {},
   "outputs": [
    {
     "data": {
      "image/png": "[encoded data removed]",
      "text/plain": [
       "<Figure size 576x216 with 1 Axes>"
      ]
     },
     "metadata": {
      "needs_background": "light"
     },
     "output_type": "display_data"
    }
   ],
   "source": [
    "fig, ax=plt.subplots(figsize=(8,3))\n",
    "x=np.linspace(a,b,10000)\n",
    "ax.plot(x,f(x),lw=2)\n",
    "ax.fill_between(x,f(x),color='red', alpha=0.7)#para sombrear la región entre el eje X y la curva (x,f(x))\n",
    "ax.set_xlabel(\"$x$\",fontsize=18)\n",
    "ax.set_ylabel(\"$f(x)$\",fontsize=18)\n",
    "ax.set_ylim(0,25)\n",
    "plt.show()"
   ]
  },
  {
   "cell_type": "code",
   "execution_count": 27,
   "id": "1194b7b2",
   "metadata": {},
   "outputs": [
    {
     "data": {
      "image/png": "[encoded data removed]",
      "text/latex": [
       "$\\displaystyle \\left( 4.0, \\  4.44089209850063 \\cdot 10^{-15}\\right)$"
      ],
      "text/plain": [
       "(3.999999999999999, 4.440892098500625e-15)"
      ]
     },
     "execution_count": 27,
     "metadata": {},
     "output_type": "execute_result"
    }
   ],
   "source": [
    "integrate.quad(f,a,b,points=[0])#dentro del corchete se pone todos los puntos donde no queremos que se evalúe la integral\n",
    "                                #por ejemplo donde hay puntos de discontinuidad o donde sea divergente"
   ]
  },
  {
   "cell_type": "code",
   "execution_count": 66,
   "id": "c9895f53",
   "metadata": {},
   "outputs": [
    {
     "data": {
      "image/png": "[encoded data removed]",
      "text/plain": [
       "<Figure size 576x216 with 1 Axes>"
      ]
     },
     "metadata": {
      "needs_background": "light"
     },
     "output_type": "display_data"
    }
   ],
   "source": [
    "f=lambda x: np.sqrt(x)#(x+np.log(1+x))/(1+x**8)\n",
    "a,b=0,2\n",
    "x=np.linspace(a,b,25)\n",
    "y=f(x)\n",
    "fig, ax=plt.subplots(figsize=(8,3))\n",
    "ax.plot(x,y,'bo')\n",
    "xx=np.linspace(a,b,500)\n",
    "ax.plot(xx,f(xx),'r--')\n",
    "ax.fill_between(xx,f(xx),color='green',alpha=0.5)\n",
    "ax.set_xlabel(r\"$x$\", fontsize=18)\n",
    "ax.set_ylabel(\"$y$\", fontsize=18)\n",
    "plt.show()"
   ]
  },
  {
   "cell_type": "code",
   "execution_count": 67,
   "id": "bc6d668b",
   "metadata": {},
   "outputs": [
    {
     "data": {
      "image/png": "[encoded data removed]",
      "text/latex": [
       "$\\displaystyle 1.88082171605085$"
      ],
      "text/plain": [
       "1.8808217160508505"
      ]
     },
     "execution_count": 67,
     "metadata": {},
     "output_type": "execute_result"
    }
   ],
   "source": [
    "val_trapz=integrate.trapz(y,x)\n",
    "val_trapz"
   ]
  },
  {
   "cell_type": "code",
   "execution_count": 68,
   "id": "78d657b4",
   "metadata": {},
   "outputs": [
    {
     "data": {
      "image/png": "[encoded data removed]",
      "text/latex": [
       "$\\displaystyle 1.88366510244871$"
      ],
      "text/plain": [
       "1.883665102448715"
      ]
     },
     "execution_count": 68,
     "metadata": {},
     "output_type": "execute_result"
    }
   ],
   "source": [
    "val_simps=integrate.simps(y,x)\n",
    "val_simps"
   ]
  },
  {
   "cell_type": "code",
   "execution_count": 69,
   "id": "20d4e397",
   "metadata": {},
   "outputs": [
    {
     "data": {
      "image/png": "[encoded data removed]",
      "text/latex": [
       "$\\displaystyle 1.88561808316413$"
      ],
      "text/plain": [
       "1.8856180831641267"
      ]
     },
     "execution_count": 69,
     "metadata": {},
     "output_type": "execute_result"
    }
   ],
   "source": [
    "valor_exacto=(2/3)*(b-a)**(3/2)#valor exacto de la integral int_0^2(x^{1/2})\n",
    "valor_exacto"
   ]
  },
  {
   "cell_type": "code",
   "execution_count": 70,
   "id": "a39ae2f0",
   "metadata": {},
   "outputs": [
    {
     "data": {
      "image/png": "[encoded data removed]",
      "text/latex": [
       "$\\displaystyle 0.00479636711327625$"
      ],
      "text/plain": [
       "0.004796367113276245"
      ]
     },
     "execution_count": 70,
     "metadata": {},
     "output_type": "execute_result"
    }
   ],
   "source": [
    "valor_exacto-val_trapz"
   ]
  },
  {
   "cell_type": "code",
   "execution_count": 71,
   "id": "043dfab5",
   "metadata": {},
   "outputs": [
    {
     "data": {
      "image/png": "[encoded data removed]",
      "text/latex": [
       "$\\displaystyle 0.00195298071541172$"
      ],
      "text/plain": [
       "0.001952980715411723"
      ]
     },
     "execution_count": 71,
     "metadata": {},
     "output_type": "execute_result"
    }
   ],
   "source": [
    "valor_exacto-val_simps"
   ]
  },
  {
   "cell_type": "markdown",
   "id": "da6037c9",
   "metadata": {},
   "source": [
    "## Integración Múltiple"
   ]
  },
  {
   "cell_type": "markdown",
   "id": "c1241085",
   "metadata": {},
   "source": [
    "$\\int_0^1\\!\\!\\int_0^1e^{-x^2-y^2}dxdy$"
   ]
  },
  {
   "cell_type": "code",
   "execution_count": 90,
   "id": "2c0a748a",
   "metadata": {},
   "outputs": [
    {
     "data": {
      "image/png": "[encoded data removed]",
      "text/plain": [
       "<Figure size 432x360 with 1 Axes>"
      ]
     },
     "metadata": {
      "needs_background": "light"
     },
     "output_type": "display_data"
    }
   ],
   "source": [
    "def f(x,y):return np.exp(-x**2-y**2)\n",
    "fig, ax=plt.subplots(figsize=(6,5))\n",
    "x=y=np.linspace(-1.25,1.25,75)\n",
    "X,Y=np.meshgrid(x,y)\n",
    "ax.contour(X,Y,f(X,Y), 15, cmap=plt.cm.RdBu, vmin=-1,vmax=1)\n",
    "bound_rect=plt.Rectangle((0,0),1,1,facecolor='pink')\n",
    "ax.add_patch(bound_rect)\n",
    "ax.axis('tight')\n",
    "ax.set_xlabel('$x$', fontsize=18)\n",
    "ax.set_ylabel('$y$', fontsize=18)\n",
    "plt.show()"
   ]
  },
  {
   "cell_type": "code",
   "execution_count": 95,
   "id": "076acf03",
   "metadata": {},
   "outputs": [
    {
     "data": {
      "image/png": "[encoded data removed]",
      "text/latex": [
       "$\\displaystyle \\left( 0.557746285351034, \\  8.29137438153541 \\cdot 10^{-15}\\right)$"
      ],
      "text/plain": [
       "(0.5577462853510337, 8.291374381535408e-15)"
      ]
     },
     "execution_count": 95,
     "metadata": {},
     "output_type": "execute_result"
    }
   ],
   "source": [
    "a,b=0,1\n",
    "g=lambda x:0\n",
    "h=lambda x:1\n",
    "integrate.dblquad(f,a,b,g,h)#nos da el valor de la integral y el error absoluto"
   ]
  },
  {
   "cell_type": "markdown",
   "id": "dbd3e392",
   "metadata": {},
   "source": [
    "Se pudo calcular tambien en la forma"
   ]
  },
  {
   "cell_type": "code",
   "execution_count": 100,
   "id": "f3d7da1e",
   "metadata": {},
   "outputs": [
    {
     "data": {
      "image/png": "[encoded data removed]",
      "text/latex": [
       "$\\displaystyle \\left( 0.557746285351034, \\  8.29137438153541 \\cdot 10^{-15}\\right)$"
      ],
      "text/plain": [
       "(0.5577462853510337, 8.291374381535408e-15)"
      ]
     },
     "execution_count": 100,
     "metadata": {},
     "output_type": "execute_result"
    }
   ],
   "source": [
    "integrate.dblquad(lambda x,y : np.exp(-x**2-y**2),0,1,lambda x: 0, lambda x: 1)"
   ]
  },
  {
   "cell_type": "markdown",
   "id": "3309a848",
   "metadata": {},
   "source": [
    "$\\int_0^1\\!\\int_{x-1}^{1-x}e^{-x^2-y^2}$. En el resultado que sigue debe usarse la función $\\color{blue}{lambda}$ "
   ]
  },
  {
   "cell_type": "code",
   "execution_count": 5,
   "id": "fa4a7ee0",
   "metadata": {},
   "outputs": [
    {
     "data": {
      "image/png": "[encoded data removed]",
      "text/latex": [
       "$\\displaystyle \\left( 0.732093100000809, \\  1.6564972931774 \\cdot 10^{-14}\\right)$"
      ],
      "text/plain": [
       "(0.7320931000008094, 1.6564972931774035e-14)"
      ]
     },
     "execution_count": 5,
     "metadata": {},
     "output_type": "execute_result"
    }
   ],
   "source": [
    "integrate.dblquad(lambda x,y: np.exp(-x**2-y**2),0,1,lambda x: -1+x, lambda x: 1-x)"
   ]
  },
  {
   "cell_type": "markdown",
   "id": "8081d830",
   "metadata": {},
   "source": [
    "## Transformada de Laplace"
   ]
  },
  {
   "cell_type": "code",
   "execution_count": 48,
   "id": "a8cbbc09",
   "metadata": {},
   "outputs": [
    {
     "data": {
      "image/png": "[encoded data removed]",
      "text/latex": [
       "$\\displaystyle \\frac{a}{a^{2} + s^{2}}$"
      ],
      "text/plain": [
       "   a   \n",
       "───────\n",
       " 2    2\n",
       "a  + s "
      ]
     },
     "execution_count": 48,
     "metadata": {},
     "output_type": "execute_result"
    }
   ],
   "source": [
    "s =sm.symbols('s')\n",
    "a,t=sm.symbols('a,t', positive=True)\n",
    "f=sm.sin(a*t)#queremos hallar la T.L de f(t)\n",
    "F=sm.laplace_transform(f,t,s,noconds=True)#T.L(f(t))= F(s)\n",
    "F"
   ]
  },
  {
   "cell_type": "code",
   "execution_count": 49,
   "id": "82f8aeef",
   "metadata": {},
   "outputs": [
    {
     "data": {
      "image/png": "[encoded data removed]",
      "text/latex": [
       "$\\displaystyle \\sin{\\left(a t \\right)}$"
      ],
      "text/plain": [
       "sin(a⋅t)"
      ]
     },
     "execution_count": 49,
     "metadata": {},
     "output_type": "execute_result"
    }
   ],
   "source": [
    "sm.inverse_laplace_transform(F,s,t, noconds=True)"
   ]
  },
  {
   "cell_type": "markdown",
   "id": "af271742",
   "metadata": {},
   "source": [
    "Podemos hallar T.L. de varias funciones a la vez"
   ]
  },
  {
   "cell_type": "code",
   "execution_count": 20,
   "id": "c8a87948",
   "metadata": {},
   "outputs": [
    {
     "name": "stdout",
     "output_type": "stream",
     "text": [
      "Wall time: 2.92 s\n"
     ]
    },
    {
     "data": {
      "image/png": "[encoded data removed]",
      "text/latex": [
       "$\\displaystyle \\left[ \\frac{1}{s^{2}}, \\  \\frac{s}{\\left(a + s\\right)^{2}}, \\  \\frac{s}{a^{2} + s^{2}}, \\  \\frac{1}{\\left(s - 3\\right)^{2}}\\right]$"
      ],
      "text/plain": [
       "⎡1      s         s        1    ⎤\n",
       "⎢──, ────────, ───────, ────────⎥\n",
       "⎢ 2         2   2    2         2⎥\n",
       "⎣s   (a + s)   a  + s   (s - 3) ⎦"
      ]
     },
     "execution_count": 20,
     "metadata": {},
     "output_type": "execute_result"
    }
   ],
   "source": [
    "[sm.laplace_transform(f,t,s,noconds=True) for f in [t,(1-a*t)*sm.exp(-a*t),sm.cos(a*t),t*sm.exp(3*t)]]"
   ]
  },
  {
   "cell_type": "code",
   "execution_count": 18,
   "id": "75e202d1",
   "metadata": {},
   "outputs": [
    {
     "data": {
      "image/png": "[encoded data removed]",
      "text/latex": [
       "$\\displaystyle s^{- n - 1} n!$"
      ],
      "text/plain": [
       " -n - 1   \n",
       "s      ⋅n!"
      ]
     },
     "execution_count": 18,
     "metadata": {},
     "output_type": "execute_result"
    }
   ],
   "source": [
    "n=sm.symbols('n', integer=True, positive=True)\n",
    "sm.laplace_transform(t**n,t,s,noconds=True)"
   ]
  },
  {
   "cell_type": "markdown",
   "id": "3f418f60",
   "metadata": {},
   "source": [
    "# Cap. 9 EDO"
   ]
  },
  {
   "cell_type": "code",
   "execution_count": 22,
   "id": "940a5872",
   "metadata": {},
   "outputs": [],
   "source": [
    "import numpy as np\n",
    "import matplotlib.pyplot as plt\n",
    "from scipy import integrate\n",
    "import sympy as sm\n",
    "sm.init_printing()"
   ]
  },
  {
   "cell_type": "code",
   "execution_count": 23,
   "id": "8afd288d",
   "metadata": {},
   "outputs": [],
   "source": [
    "t,k,T0,Ta=sm.symbols('t,k,T_0,T_a')\n",
    "T=sm.Function('T')"
   ]
  },
  {
   "cell_type": "code",
   "execution_count": 24,
   "id": "38fb44bb",
   "metadata": {},
   "outputs": [
    {
     "name": "stderr",
     "output_type": "stream",
     "text": [
      "C:\\Users\\Teodoro\\anaconda3\\lib\\site-packages\\sympy\\core\\relational.py:495: SymPyDeprecationWarning: \n",
      "\n",
      "Eq(expr) with rhs default to 0 has been deprecated since SymPy 1.5.\n",
      "Use Eq(expr, 0) instead. See\n",
      "https://github.com/sympy/sympy/issues/16587 for more info.\n",
      "\n",
      "  SymPyDeprecationWarning(\n"
     ]
    },
    {
     "data": {
      "image/png": "[encoded data removed]",
      "text/latex": [
       "$\\displaystyle k \\left(- T_{a} + T{\\left(t \\right)}\\right) + \\frac{d}{d t} T{\\left(t \\right)} = 0$"
      ],
      "text/plain": [
       "                 d           \n",
       "k⋅(-Tₐ + T(t)) + ──(T(t)) = 0\n",
       "                 dt          "
      ]
     },
     "execution_count": 24,
     "metadata": {},
     "output_type": "execute_result"
    }
   ],
   "source": [
    "ode=T(t).diff(t)+k*(T(t)-Ta)\n",
    "sm.Eq(ode)"
   ]
  },
  {
   "cell_type": "code",
   "execution_count": 25,
   "id": "c80e1680",
   "metadata": {},
   "outputs": [
    {
     "data": {
      "image/png": "[encoded data removed]",
      "text/latex": [
       "$\\displaystyle T{\\left(t \\right)} = C_{1} e^{- k t} + T_{a}$"
      ],
      "text/plain": [
       "           -k⋅t     \n",
       "T(t) = C₁⋅ℯ     + Tₐ"
      ]
     },
     "execution_count": 25,
     "metadata": {},
     "output_type": "execute_result"
    }
   ],
   "source": [
    "ode_sol=sm.dsolve(ode)\n",
    "ode_sol"
   ]
  },
  {
   "cell_type": "code",
   "execution_count": 26,
   "id": "b6e970b6",
   "metadata": {},
   "outputs": [
    {
     "data": {
      "image/png": "[encoded data removed]",
      "text/latex": [
       "$\\displaystyle \\left\\{ T{\\left(0 \\right)} : T_{0}\\right\\}$"
      ],
      "text/plain": [
       "{T(0): T₀}"
      ]
     },
     "execution_count": 26,
     "metadata": {},
     "output_type": "execute_result"
    }
   ],
   "source": [
    "ics={T(0):T0}\n",
    "ics"
   ]
  },
  {
   "cell_type": "code",
   "execution_count": 27,
   "id": "411b8ebe",
   "metadata": {},
   "outputs": [
    {
     "data": {
      "image/png": "[encoded data removed]",
      "text/latex": [
       "$\\displaystyle T_{0} = C_{1} + T_{a}$"
      ],
      "text/plain": [
       "T₀ = C₁ + Tₐ"
      ]
     },
     "execution_count": 27,
     "metadata": {},
     "output_type": "execute_result"
    }
   ],
   "source": [
    "C_eq=sm.Eq(ode_sol.lhs.subs(t,0).subs(ics), ode_sol.rhs.subs(t,0))\n",
    "C_eq"
   ]
  },
  {
   "cell_type": "code",
   "execution_count": 28,
   "id": "5493c983",
   "metadata": {},
   "outputs": [
    {
     "data": {
      "image/png": "[encoded data removed]",
      "text/latex": [
       "$\\displaystyle \\left[ \\left\\{ C_{1} : T_{0} - T_{a}\\right\\}\\right]$"
      ],
      "text/plain": [
       "[{C₁: T₀ - Tₐ}]"
      ]
     },
     "execution_count": 28,
     "metadata": {},
     "output_type": "execute_result"
    }
   ],
   "source": [
    "C_sol=sm.solve(C_eq)\n",
    "C_sol"
   ]
  },
  {
   "cell_type": "code",
   "execution_count": 29,
   "id": "42d028ba",
   "metadata": {},
   "outputs": [
    {
     "data": {
      "image/png": "[encoded data removed]",
      "text/latex": [
       "$\\displaystyle T{\\left(t \\right)} = T_{a} + \\left(T_{0} - T_{a}\\right) e^{- k t}$"
      ],
      "text/plain": [
       "                       -k⋅t\n",
       "T(t) = Tₐ + (T₀ - Tₐ)⋅ℯ    "
      ]
     },
     "execution_count": 29,
     "metadata": {},
     "output_type": "execute_result"
    }
   ],
   "source": [
    "ode_sol.subs(C_sol[0])"
   ]
  },
  {
   "cell_type": "code",
   "execution_count": 30,
   "id": "c0b843ba",
   "metadata": {},
   "outputs": [],
   "source": [
    "def apply_ics(sol,ics,x,known_params):\n",
    "    free_params = sol.free_symbols-set(known_params)\n",
    "    eqs= [(sol.lhs.diff(x,n)-sol.rhs.diff(x,n)).subs(x,0).subs(ics)\n",
    "         for n in range(len(ics))]\n",
    "    sol_params=sm.solve(eqs, free_params)\n",
    "    return sol.subs(sol_params)\n",
    "    "
   ]
  },
  {
   "cell_type": "code",
   "execution_count": 31,
   "id": "515a0065",
   "metadata": {},
   "outputs": [
    {
     "data": {
      "image/png": "[encoded data removed]",
      "text/latex": [
       "$\\displaystyle T{\\left(t \\right)} = C_{1} e^{- k t} + T_{a}$"
      ],
      "text/plain": [
       "           -k⋅t     \n",
       "T(t) = C₁⋅ℯ     + Tₐ"
      ]
     },
     "execution_count": 31,
     "metadata": {},
     "output_type": "execute_result"
    }
   ],
   "source": [
    "ode_sol"
   ]
  },
  {
   "cell_type": "code",
   "execution_count": 32,
   "id": "2a498fa3",
   "metadata": {},
   "outputs": [
    {
     "data": {
      "image/png": "[encoded data removed]",
      "text/latex": [
       "$\\displaystyle T{\\left(t \\right)} = T_{a} + \\left(T_{0} - T_{a}\\right) e^{- k t}$"
      ],
      "text/plain": [
       "                       -k⋅t\n",
       "T(t) = Tₐ + (T₀ - Tₐ)⋅ℯ    "
      ]
     },
     "execution_count": 32,
     "metadata": {},
     "output_type": "execute_result"
    }
   ],
   "source": [
    "apply_ics(ode_sol,ics,t,[k,Ta])"
   ]
  },
  {
   "cell_type": "code",
   "execution_count": null,
   "id": "93d167ce",
   "metadata": {},
   "outputs": [],
   "source": []
  }
 ],
 "metadata": {
  "kernelspec": {
   "display_name": "Python 3",
   "language": "python",
   "name": "python3"
  },
  "language_info": {
   "codemirror_mode": {
    "name": "ipython",
    "version": 3
   },
   "file_extension": ".py",
   "mimetype": "text/x-python",
   "name": "python",
   "nbconvert_exporter": "python",
   "pygments_lexer": "ipython3",
   "version": "3.8.8"
  }
 },
 "nbformat": 4,
 "nbformat_minor": 5
}
